{
 "cells": [
  {
   "cell_type": "code",
   "execution_count": 1,
   "metadata": {
    "collapsed": true
   },
   "outputs": [],
   "source": []
  },
  {
   "cell_type": "code",
   "execution_count": 11,
   "metadata": {
    "collapsed": false
   },
   "outputs": [],
   "source": [
    "#当loss是绝对值时的情形"
   ]
  },
  {
   "cell_type": "code",
   "execution_count": 5,
   "metadata": {
    "collapsed": true
   },
   "outputs": [],
   "source": [
    "# loss函数\n",
    "def loss(y, y_hat): # to evaluate the performance \n",
    "    return sum(abs(y_i - y_hat_i) for y_i, y_hat_i in zip(list(y), list(y_hat))) / len(list(y))"
   ]
  },
  {
   "cell_type": "code",
   "execution_count": 30,
   "metadata": {
    "collapsed": false
   },
   "outputs": [],
   "source": [
    "def partial_k(x, y, y_hat):\n",
    "    n = len(y)\n",
    "\n",
    "    gradient = 0\n",
    "    \n",
    "    for x_i, y_i, y_hat_i in zip(list(x), list(y), list(y_hat)):\n",
    "        if y_i>y_hat_i:\n",
    "            gradient+=-x_i\n",
    "        if y_i<y_hat_i:\n",
    "            gradient+=x_i            \n",
    "    return gradient/n\n",
    "\n",
    "\n",
    "\n",
    "def partial_b(x,y,y_hat):\n",
    "    n=len(y)\n",
    "    \n",
    "    gradient=0\n",
    "    \n",
    "    for x_i,y_i,y_hat_i in zip(list(x),list(y),list(y_hat)):\n",
    "        if y_i>y_hat_i:\n",
    "            gradient+=-1\n",
    "        if y_i<y_hat_i:\n",
    "            gradient+=1\n",
    "        \n",
    "    \n",
    "    return gradient"
   ]
  },
  {
   "cell_type": "code",
   "execution_count": 31,
   "metadata": {
    "collapsed": false
   },
   "outputs": [],
   "source": [
    "from sklearn.datasets import load_boston"
   ]
  },
  {
   "cell_type": "code",
   "execution_count": 32,
   "metadata": {
    "collapsed": true
   },
   "outputs": [],
   "source": [
    "data = load_boston()"
   ]
  },
  {
   "cell_type": "code",
   "execution_count": 33,
   "metadata": {
    "collapsed": true
   },
   "outputs": [],
   "source": [
    "X, y = data['data'], data['target']"
   ]
  },
  {
   "cell_type": "code",
   "execution_count": 34,
   "metadata": {
    "collapsed": true
   },
   "outputs": [],
   "source": [
    "%matplotlib inline"
   ]
  },
  {
   "cell_type": "code",
   "execution_count": 35,
   "metadata": {
    "collapsed": true
   },
   "outputs": [],
   "source": [
    "import matplotlib.pyplot as plt"
   ]
  },
  {
   "cell_type": "code",
   "execution_count": 36,
   "metadata": {
    "collapsed": true
   },
   "outputs": [],
   "source": [
    "def draw_rm_and_price():\n",
    "    plt.scatter(X[:, 5], y)"
   ]
  },
  {
   "cell_type": "code",
   "execution_count": 37,
   "metadata": {
    "collapsed": false
   },
   "outputs": [
    {
     "data": {
      "image/png": "[encoded data removed]",
      "text/plain": [
       "<matplotlib.figure.Figure at 0x1cb74766668>"
      ]
     },
     "metadata": {},
     "output_type": "display_data"
    }
   ],
   "source": [
    "draw_rm_and_price()"
   ]
  },
  {
   "cell_type": "code",
   "execution_count": 38,
   "metadata": {
    "collapsed": true
   },
   "outputs": [],
   "source": [
    "import random"
   ]
  },
  {
   "cell_type": "code",
   "execution_count": 39,
   "metadata": {
    "collapsed": true
   },
   "outputs": [],
   "source": [
    "#设置y=k*x+b函数\n",
    "def price(rm,k,b):\n",
    "    '''f(x)=k*x+b'''\n",
    "    return k*rm+b"
   ]
  },
  {
   "cell_type": "code",
   "execution_count": 41,
   "metadata": {
    "collapsed": false
   },
   "outputs": [
    {
     "name": "stdout",
     "output_type": "stream",
     "text": [
      "When time is: 9,get best_k: -39.23859975353596 best_b:-10.7261850696536,and the loss is: 279.8592447163692\n",
      "When time is: 19,get best_k: -39.23231511914859 best_b:-10.220185069653606,and the loss is: 279.31374808698683\n",
      "When time is: 29,get best_k: -39.22603048476122 best_b:-9.714185069653613,and the loss is: 278.7682514576041\n",
      "When time is: 39,get best_k: -39.21974585037385 best_b:-9.20818506965362,and the loss is: 278.22275482822107\n",
      "When time is: 49,get best_k: -39.21346121598648 best_b:-8.702185069653627,and the loss is: 277.6772581988381\n",
      "When time is: 59,get best_k: -39.20717658159911 best_b:-8.196185069653634,and the loss is: 277.1317615694553\n",
      "When time is: 69,get best_k: -39.20089194721174 best_b:-7.6901850696536345,and the loss is: 276.5862649400725\n",
      "When time is: 79,get best_k: -39.19460731282437 best_b:-7.1841850696536325,and the loss is: 276.04076831068977\n",
      "When time is: 89,get best_k: -39.188322678437 best_b:-6.6781850696536305,and the loss is: 275.4952716813071\n",
      "When time is: 99,get best_k: -39.18203804404963 best_b:-6.1721850696536285,and the loss is: 274.9497750519244\n",
      "When time is: 109,get best_k: -39.175753409662256 best_b:-5.6661850696536264,and the loss is: 274.4042784225414\n",
      "When time is: 119,get best_k: -39.169468775274886 best_b:-5.1601850696536244,and the loss is: 273.8587817931585\n",
      "When time is: 129,get best_k: -39.163184140887516 best_b:-4.654185069653622,and the loss is: 273.31328516377584\n",
      "When time is: 139,get best_k: -39.156899506500146 best_b:-4.14818506965362,and the loss is: 272.767788534393\n",
      "When time is: 149,get best_k: -39.150614872112776 best_b:-3.6421850696536184,and the loss is: 272.22229190501014\n",
      "When time is: 159,get best_k: -39.144330237725406 best_b:-3.1361850696536164,and the loss is: 271.6767952756273\n",
      "When time is: 169,get best_k: -39.138045603338036 best_b:-2.6301850696536144,and the loss is: 271.1312986462446\n",
      "When time is: 179,get best_k: -39.131760968950665 best_b:-2.1241850696536124,and the loss is: 270.58580201686163\n",
      "When time is: 189,get best_k: -39.125476334563295 best_b:-1.6181850696536122,and the loss is: 270.040305387479\n",
      "When time is: 199,get best_k: -39.119191700175925 best_b:-1.1121850696536124,and the loss is: 269.49480875809587\n",
      "When time is: 209,get best_k: -39.112907065788555 best_b:-0.6061850696536126,and the loss is: 268.9493121287133\n",
      "When time is: 219,get best_k: -39.106622431401185 best_b:-0.10018506965361276,and the loss is: 268.4038154993304\n",
      "When time is: 229,get best_k: -39.100337797013815 best_b:0.40581493034638716,and the loss is: 267.85831886994754\n",
      "When time is: 239,get best_k: -39.094053162626444 best_b:0.9118149303463869,and the loss is: 267.31282224056497\n",
      "When time is: 249,get best_k: -39.087768528239074 best_b:1.4178149303463867,and the loss is: 266.76732561118195\n",
      "When time is: 259,get best_k: -39.081483893851704 best_b:1.9238149303463865,and the loss is: 266.2218289817993\n",
      "When time is: 269,get best_k: -39.075199259464334 best_b:2.4298149303463883,and the loss is: 265.6763323524164\n",
      "When time is: 279,get best_k: -39.068914625076964 best_b:2.9358149303463903,and the loss is: 265.13083572303367\n",
      "When time is: 289,get best_k: -39.062629990689594 best_b:3.4418149303463923,and the loss is: 264.58533909365076\n",
      "When time is: 299,get best_k: -39.056345356302224 best_b:3.9478149303463943,and the loss is: 264.03984246426813\n",
      "When time is: 309,get best_k: -39.05006072191485 best_b:4.453814930346396,and the loss is: 263.4943458348855\n",
      "When time is: 319,get best_k: -39.04377608752748 best_b:4.959814930346398,and the loss is: 262.9488492055028\n",
      "When time is: 329,get best_k: -39.03749145314011 best_b:5.4658149303464,and the loss is: 262.4033525761197\n",
      "When time is: 339,get best_k: -39.03120681875274 best_b:5.971814930346402,and the loss is: 261.85785594673683\n",
      "When time is: 349,get best_k: -39.02492218436537 best_b:6.477814930346404,and the loss is: 261.3123593173541\n",
      "When time is: 359,get best_k: -39.018637549978 best_b:6.983814930346406,and the loss is: 260.7668626879715\n",
      "When time is: 369,get best_k: -39.01235291559063 best_b:7.489814930346408,and the loss is: 260.22136605858833\n",
      "When time is: 379,get best_k: -39.00606828120326 best_b:7.99581493034641,and the loss is: 259.6758694292059\n",
      "When time is: 389,get best_k: -38.99978364681589 best_b:8.501814930346404,and the loss is: 259.1303727998228\n",
      "When time is: 399,get best_k: -38.99349901242852 best_b:9.007814930346397,and the loss is: 258.5848761704401\n",
      "When time is: 409,get best_k: -38.98721437804115 best_b:9.51381493034639,and the loss is: 258.03937954105726\n",
      "When time is: 419,get best_k: -38.98092974365378 best_b:10.019814930346383,and the loss is: 257.49388291167486\n",
      "When time is: 429,get best_k: -38.97464510926641 best_b:10.525814930346376,and the loss is: 256.94838628229166\n",
      "When time is: 439,get best_k: -38.96836047487904 best_b:11.03181493034637,and the loss is: 256.4028896529088\n",
      "When time is: 449,get best_k: -38.96207584049167 best_b:11.537814930346363,and the loss is: 255.85739302352624\n",
      "When time is: 459,get best_k: -38.9557912061043 best_b:12.043814930346356,and the loss is: 255.3118963941436\n",
      "When time is: 469,get best_k: -38.94950657171693 best_b:12.549814930346349,and the loss is: 254.76639976476054\n",
      "When time is: 479,get best_k: -38.94322193732956 best_b:13.055814930346342,and the loss is: 254.22090313537782\n",
      "When time is: 489,get best_k: -38.93693730294219 best_b:13.561814930346335,and the loss is: 253.67540650599503\n",
      "When time is: 499,get best_k: -38.93065266855482 best_b:14.067814930346328,and the loss is: 253.12990987661212\n",
      "When time is: 509,get best_k: -38.92436803416745 best_b:14.573814930346321,and the loss is: 252.58441324722943\n",
      "When time is: 519,get best_k: -38.91808339978008 best_b:15.079814930346314,and the loss is: 252.03891661784672\n",
      "When time is: 529,get best_k: -38.91179876539271 best_b:15.585814930346308,and the loss is: 251.49341998846398\n",
      "When time is: 539,get best_k: -38.90551413100534 best_b:16.091814930346303,and the loss is: 250.9479233590812\n",
      "When time is: 549,get best_k: -38.89922949661797 best_b:16.597814930346296,and the loss is: 250.40242672969833\n",
      "When time is: 559,get best_k: -38.8929448622306 best_b:17.10381493034629,and the loss is: 249.85693010031525\n",
      "When time is: 569,get best_k: -38.88666022784323 best_b:17.609814930346282,and the loss is: 249.31143347093246\n",
      "When time is: 579,get best_k: -38.88037559345586 best_b:18.115814930346275,and the loss is: 248.76593684155023\n",
      "When time is: 589,get best_k: -38.87409095906849 best_b:18.621814930346268,and the loss is: 248.22044021216695\n",
      "When time is: 599,get best_k: -38.86780632468112 best_b:19.12781493034626,and the loss is: 247.67494358278435\n",
      "When time is: 609,get best_k: -38.86152169029375 best_b:19.633814930346254,and the loss is: 247.12944695340164\n",
      "When time is: 619,get best_k: -38.85523705590638 best_b:20.139814930346247,and the loss is: 246.58395032401867\n",
      "When time is: 629,get best_k: -38.84895242151901 best_b:20.64581493034624,and the loss is: 246.03845369463613\n",
      "When time is: 639,get best_k: -38.84266778713164 best_b:21.151814930346234,and the loss is: 245.49295706525322\n",
      "When time is: 649,get best_k: -38.83638315274427 best_b:21.657814930346227,and the loss is: 244.94746043587017\n",
      "When time is: 659,get best_k: -38.8300985183569 best_b:22.16381493034622,and the loss is: 244.40196380648754\n",
      "When time is: 669,get best_k: -38.82381388396953 best_b:22.669814930346213,and the loss is: 243.856467177105\n",
      "When time is: 679,get best_k: -38.81752924958216 best_b:23.175814930346206,and the loss is: 243.31097054772192\n",
      "When time is: 689,get best_k: -38.81124461519479 best_b:23.6818149303462,and the loss is: 242.76547391833915\n",
      "When time is: 699,get best_k: -38.80495998080742 best_b:24.187814930346192,and the loss is: 242.21997728895627\n",
      "When time is: 709,get best_k: -38.79867534642005 best_b:24.693814930346186,and the loss is: 241.6744806595739\n",
      "When time is: 719,get best_k: -38.79239071203268 best_b:25.19981493034618,and the loss is: 241.12898403019057\n",
      "When time is: 729,get best_k: -38.78610607764531 best_b:25.705814930346172,and the loss is: 240.5834874008079\n",
      "When time is: 739,get best_k: -38.77982144325794 best_b:26.211814930346165,and the loss is: 240.0379907714252\n",
      "When time is: 749,get best_k: -38.77353680887057 best_b:26.717814930346158,and the loss is: 239.4924941420424\n",
      "When time is: 759,get best_k: -38.7672521744832 best_b:27.22381493034615,and the loss is: 238.9469975126599\n",
      "When time is: 769,get best_k: -38.76096754009583 best_b:27.729814930346144,and the loss is: 238.40150088327678\n",
      "When time is: 779,get best_k: -38.75468290570846 best_b:28.235814930346137,and the loss is: 237.85600425389433\n",
      "When time is: 789,get best_k: -38.748398271321086 best_b:28.74181493034613,and the loss is: 237.31050762451113\n",
      "When time is: 799,get best_k: -38.742113636933716 best_b:29.247814930346124,and the loss is: 236.76501099512845\n",
      "When time is: 809,get best_k: -38.735829002546346 best_b:29.753814930346117,and the loss is: 236.21951436574585\n",
      "When time is: 819,get best_k: -38.729544368158976 best_b:30.25981493034611,and the loss is: 235.67401773636274\n",
      "When time is: 829,get best_k: -38.723259733771606 best_b:30.765814930346103,and the loss is: 235.12852110698014\n",
      "When time is: 839,get best_k: -38.716975099384236 best_b:31.271814930346096,and the loss is: 234.5830244775973\n",
      "When time is: 849,get best_k: -38.710690464996866 best_b:31.77781493034609,and the loss is: 234.03752784821472\n",
      "When time is: 859,get best_k: -38.704405830609495 best_b:32.283814930346104,and the loss is: 233.49203121883173\n",
      "When time is: 869,get best_k: -38.698121196222125 best_b:32.78981493034613,and the loss is: 232.94653458944887\n",
      "When time is: 879,get best_k: -38.691836561834755 best_b:33.29581493034616,and the loss is: 232.40103796006613\n",
      "When time is: 889,get best_k: -38.685551927447385 best_b:33.80181493034619,and the loss is: 231.8555413306831\n",
      "When time is: 899,get best_k: -38.679267293060015 best_b:34.30781493034622,and the loss is: 231.31004470130023\n",
      "When time is: 909,get best_k: -38.672982658672645 best_b:34.81381493034625,and the loss is: 230.7645480719177\n",
      "When time is: 919,get best_k: -38.666698024285274 best_b:35.319814930346276,and the loss is: 230.21905144253478\n",
      "When time is: 929,get best_k: -38.660413389897904 best_b:35.825814930346304,and the loss is: 229.67355481315178\n",
      "When time is: 939,get best_k: -38.654128755510534 best_b:36.33181493034633,and the loss is: 229.12805818376887\n",
      "When time is: 949,get best_k: -38.647844121123164 best_b:36.83781493034636,and the loss is: 228.58256155438622\n",
      "When time is: 959,get best_k: -38.641559486735794 best_b:37.34381493034639,and the loss is: 228.03706492500322\n",
      "When time is: 969,get best_k: -38.635274852348424 best_b:37.84981493034642,and the loss is: 227.4915682956206\n",
      "When time is: 979,get best_k: -38.628990217961054 best_b:38.35581493034645,and the loss is: 226.94607166623774\n",
      "When time is: 989,get best_k: -38.62270558357368 best_b:38.861814930346476,and the loss is: 226.4005750368549\n",
      "When time is: 999,get best_k: -38.61642094918631 best_b:39.367814930346505,and the loss is: 225.85507840747235\n",
      "When time is: 1009,get best_k: -38.61013631479894 best_b:39.87381493034653,and the loss is: 225.3095817780894\n",
      "When time is: 1019,get best_k: -38.60385168041157 best_b:40.37981493034656,and the loss is: 224.76408514870647\n",
      "When time is: 1029,get best_k: -38.5975670460242 best_b:40.88581493034659,and the loss is: 224.2185885193235\n",
      "When time is: 1039,get best_k: -38.59128241163683 best_b:41.39181493034662,and the loss is: 223.6730918899407\n",
      "When time is: 1049,get best_k: -38.58499777724946 best_b:41.89781493034665,and the loss is: 223.12759526055808\n",
      "When time is: 1059,get best_k: -38.57871314286209 best_b:42.40381493034668,and the loss is: 222.58209863117514\n",
      "When time is: 1069,get best_k: -38.57242850847472 best_b:42.909814930346705,and the loss is: 222.0366020017923\n",
      "When time is: 1079,get best_k: -38.56614387408735 best_b:43.415814930346734,and the loss is: 221.49110537240952\n",
      "When time is: 1089,get best_k: -38.55985923969998 best_b:43.92181493034676,and the loss is: 220.94560874302672\n",
      "When time is: 1099,get best_k: -38.55357460531261 best_b:44.42781493034679,and the loss is: 220.40011211364376\n",
      "When time is: 1109,get best_k: -38.54728997092524 best_b:44.93381493034682,and the loss is: 219.85461548426085\n",
      "When time is: 1119,get best_k: -38.54100533653787 best_b:45.43981493034685,and the loss is: 219.30911885487816\n",
      "When time is: 1129,get best_k: -38.5347207021505 best_b:45.94581493034688,and the loss is: 218.76362222549548\n",
      "When time is: 1139,get best_k: -38.52843606776313 best_b:46.451814930346906,and the loss is: 218.21812559611243\n",
      "When time is: 1149,get best_k: -38.52215143337576 best_b:46.957814930346935,and the loss is: 217.67262896672992\n",
      "When time is: 1159,get best_k: -38.51586679898839 best_b:47.46381493034696,and the loss is: 217.12713233734684\n",
      "When time is: 1169,get best_k: -38.50958216460102 best_b:47.96981493034699,and the loss is: 216.5816357079641\n",
      "When time is: 1179,get best_k: -38.50329753021365 best_b:48.47581493034702,and the loss is: 216.0361390785812\n",
      "When time is: 1189,get best_k: -38.49701289582628 best_b:48.98181493034705,and the loss is: 215.49064244919822\n",
      "When time is: 1199,get best_k: -38.49072826143891 best_b:49.48781493034708,and the loss is: 214.94514581981574\n",
      "When time is: 1209,get best_k: -38.48444362705154 best_b:49.993814930347106,and the loss is: 214.39964919043263\n",
      "When time is: 1219,get best_k: -38.47815899266417 best_b:50.499814930347135,and the loss is: 213.8541525610499\n",
      "When time is: 1229,get best_k: -38.4718743582768 best_b:51.005814930347164,and the loss is: 213.30865593166732\n",
      "When time is: 1239,get best_k: -38.46558972388943 best_b:51.51181493034719,and the loss is: 212.76315930228418\n",
      "When time is: 1249,get best_k: -38.45930508950206 best_b:52.01781493034722,and the loss is: 212.21766267290138\n",
      "When time is: 1259,get best_k: -38.45302045511469 best_b:52.52381493034725,and the loss is: 211.67216604351884\n",
      "When time is: 1269,get best_k: -38.44673582072732 best_b:53.02981493034728,and the loss is: 211.12666941413568\n",
      "When time is: 1279,get best_k: -38.44045118633995 best_b:53.53581493034731,and the loss is: 210.58117278475285\n",
      "When time is: 1289,get best_k: -38.43416655195258 best_b:54.041814930347336,and the loss is: 210.03567615537006\n",
      "When time is: 1299,get best_k: -38.42788191756521 best_b:54.547814930347364,and the loss is: 209.4901795259873\n",
      "When time is: 1309,get best_k: -38.42159728317784 best_b:55.05381493034739,and the loss is: 208.9446828966045\n",
      "When time is: 1319,get best_k: -38.41531264879047 best_b:55.55981493034742,and the loss is: 208.39918626722135\n",
      "When time is: 1329,get best_k: -38.4090280144031 best_b:56.06581493034745,and the loss is: 207.85368963783867\n",
      "When time is: 1339,get best_k: -38.40274338001573 best_b:56.57181493034748,and the loss is: 207.30819300845593\n",
      "When time is: 1349,get best_k: -38.39645874562836 best_b:57.07781493034751,and the loss is: 206.76269637907308\n",
      "When time is: 1359,get best_k: -38.39017411124099 best_b:57.583814930347536,and the loss is: 206.2171997496904\n",
      "When time is: 1369,get best_k: -38.38388947685362 best_b:58.089814930347565,and the loss is: 205.6717031203076\n",
      "When time is: 1379,get best_k: -38.37760484246625 best_b:58.59581493034759,and the loss is: 205.1262064909247\n",
      "When time is: 1389,get best_k: -38.37132020807888 best_b:59.10181493034762,and the loss is: 204.5807098615419\n",
      "When time is: 1399,get best_k: -38.36503557369151 best_b:59.60781493034765,and the loss is: 204.03521323215895\n",
      "When time is: 1409,get best_k: -38.35875093930414 best_b:60.11381493034768,and the loss is: 203.48971660277627\n",
      "When time is: 1419,get best_k: -38.35246630491677 best_b:60.61981493034771,and the loss is: 202.9442199733935\n",
      "When time is: 1429,get best_k: -38.3461816705294 best_b:61.12581493034774,and the loss is: 202.39872334401065\n",
      "When time is: 1439,get best_k: -38.33989703614203 best_b:61.631814930347765,and the loss is: 201.8532267146276\n",
      "When time is: 1449,get best_k: -38.33361240175466 best_b:62.137814930347794,and the loss is: 201.307730085245\n",
      "When time is: 1459,get best_k: -38.32732776736729 best_b:62.64381493034782,and the loss is: 200.76223345586195\n",
      "When time is: 1469,get best_k: -38.321043132979916 best_b:63.14981493034785,and the loss is: 200.21673682647904\n",
      "When time is: 1479,get best_k: -38.314758498592546 best_b:63.65581493034788,and the loss is: 199.6712401970962\n",
      "When time is: 1489,get best_k: -38.308473864205176 best_b:64.1618149303479,and the loss is: 199.12574356771356\n",
      "When time is: 1499,get best_k: -38.302189229817806 best_b:64.66781493034793,and the loss is: 198.58024693833065\n",
      "When time is: 1509,get best_k: -38.295904595430436 best_b:65.17381493034796,and the loss is: 198.0347503089477\n",
      "When time is: 1519,get best_k: -38.289619961043066 best_b:65.67981493034799,and the loss is: 197.489253679565\n",
      "When time is: 1529,get best_k: -38.283335326655695 best_b:66.18581493034802,and the loss is: 196.94375705018223\n",
      "When time is: 1539,get best_k: -38.277050692268325 best_b:66.69181493034804,and the loss is: 196.39826042079946\n",
      "When time is: 1549,get best_k: -38.270766057880955 best_b:67.19781493034807,and the loss is: 195.85276379141663\n",
      "When time is: 1559,get best_k: -38.264481423493585 best_b:67.7038149303481,and the loss is: 195.3072671620337\n",
      "When time is: 1569,get best_k: -38.258196789106215 best_b:68.20981493034813,and the loss is: 194.76177053265098\n",
      "When time is: 1579,get best_k: -38.251912154718845 best_b:68.71581493034816,and the loss is: 194.21627390326816\n",
      "When time is: 1589,get best_k: -38.245627520331475 best_b:69.22181493034819,and the loss is: 193.67077727388514\n",
      "When time is: 1599,get best_k: -38.239342885944104 best_b:69.72781493034822,and the loss is: 193.1252806445024\n",
      "When time is: 1609,get best_k: -38.233058251556734 best_b:70.23381493034825,and the loss is: 192.57978401511957\n",
      "When time is: 1619,get best_k: -38.226773617169364 best_b:70.73981493034827,and the loss is: 192.03428738573658\n",
      "When time is: 1629,get best_k: -38.220488982781994 best_b:71.2458149303483,and the loss is: 191.48879075635372\n",
      "When time is: 1639,get best_k: -38.214204348394624 best_b:71.75181493034833,and the loss is: 190.9432941269711\n",
      "When time is: 1649,get best_k: -38.207919714007254 best_b:72.25781493034836,and the loss is: 190.3977974975883\n",
      "When time is: 1659,get best_k: -38.201635079619884 best_b:72.76381493034839,and the loss is: 189.85230086820536\n",
      "When time is: 1669,get best_k: -38.19535044523251 best_b:73.26981493034842,and the loss is: 189.3068042388225\n",
      "When time is: 1679,get best_k: -38.18906581084514 best_b:73.77581493034845,and the loss is: 188.76130760943974\n",
      "When time is: 1689,get best_k: -38.18278117645777 best_b:74.28181493034847,and the loss is: 188.21581098005686\n",
      "When time is: 1699,get best_k: -38.1764965420704 best_b:74.7878149303485,and the loss is: 187.67031435067386\n",
      "When time is: 1709,get best_k: -38.17021190768303 best_b:75.29381493034853,and the loss is: 187.12481772129115\n",
      "When time is: 1719,get best_k: -38.16392727329566 best_b:75.79981493034856,and the loss is: 186.5793210919083\n",
      "When time is: 1729,get best_k: -38.15764263890829 best_b:76.30581493034859,and the loss is: 186.03382446252544\n",
      "When time is: 1739,get best_k: -38.15135800452092 best_b:76.81181493034862,and the loss is: 185.48832783314296\n",
      "When time is: 1749,get best_k: -38.14507337013355 best_b:77.31781493034865,and the loss is: 184.94283120376028\n",
      "When time is: 1759,get best_k: -38.13878873574618 best_b:77.82381493034868,and the loss is: 184.397334574377\n",
      "When time is: 1769,get best_k: -38.13250410135881 best_b:78.3298149303487,and the loss is: 183.8518379449942\n",
      "When time is: 1779,get best_k: -38.12621946697144 best_b:78.83581493034873,and the loss is: 183.3063413156116\n",
      "When time is: 1789,get best_k: -38.11993483258407 best_b:79.34181493034876,and the loss is: 182.76084468622864\n",
      "When time is: 1799,get best_k: -38.1136501981967 best_b:79.84781493034879,and the loss is: 182.21534805684578\n",
      "When time is: 1809,get best_k: -38.10736556380933 best_b:80.35381493034882,and the loss is: 181.6698514274629\n",
      "When time is: 1819,get best_k: -38.10108092942196 best_b:80.85981493034885,and the loss is: 181.12435479808\n",
      "When time is: 1829,get best_k: -38.09479629503459 best_b:81.36581493034888,and the loss is: 180.57885816869734\n",
      "When time is: 1839,get best_k: -38.08851166064722 best_b:81.8718149303489,and the loss is: 180.0333615393144\n",
      "When time is: 1849,get best_k: -38.08222702625985 best_b:82.37781493034893,and the loss is: 179.48786490993152\n",
      "When time is: 1859,get best_k: -38.07594239187248 best_b:82.88381493034896,and the loss is: 178.9423682805488\n",
      "When time is: 1869,get best_k: -38.06965775748511 best_b:83.38981493034899,and the loss is: 178.396871651166\n",
      "When time is: 1879,get best_k: -38.06337312309774 best_b:83.89581493034902,and the loss is: 177.85137502178338\n",
      "When time is: 1889,get best_k: -38.05708848871037 best_b:84.40181493034905,and the loss is: 177.30587839240022\n",
      "When time is: 1899,get best_k: -38.050803854323 best_b:84.90781493034908,and the loss is: 176.76038176301762\n",
      "When time is: 1909,get best_k: -38.04451921993563 best_b:85.4138149303491,and the loss is: 176.21488513363468\n",
      "When time is: 1919,get best_k: -38.03823458554826 best_b:85.91981493034913,and the loss is: 175.6693885042518\n",
      "When time is: 1929,get best_k: -38.03194995116089 best_b:86.42581493034916,and the loss is: 175.12389187486903\n",
      "When time is: 1939,get best_k: -38.02566531677352 best_b:86.93181493034919,and the loss is: 174.5783952454861\n",
      "When time is: 1949,get best_k: -38.01938068238615 best_b:87.43781493034922,and the loss is: 174.03289861610332\n",
      "When time is: 1959,get best_k: -38.01309604799878 best_b:87.94381493034925,and the loss is: 173.4874019867205\n",
      "When time is: 1969,get best_k: -38.00681141361141 best_b:88.44981493034928,and the loss is: 172.94190535733765\n",
      "When time is: 1979,get best_k: -38.00052677922404 best_b:88.9558149303493,and the loss is: 172.39640872795496\n",
      "When time is: 1989,get best_k: -37.99424214483667 best_b:89.46181493034933,and the loss is: 171.85091209857194\n",
      "When time is: 1999,get best_k: -37.9879575104493 best_b:89.96781493034936,and the loss is: 171.30541546918937\n"
     ]
    }
   ],
   "source": [
    "trying_times=2000\n",
    "\n",
    "min_loss = float('inf')\n",
    "X_rm = X[:, 5]\n",
    "current_k =random.random()*200-100\n",
    "current_b =random.random()*200-100\n",
    "\n",
    "learning_rate = 1e-04\n",
    "\n",
    "\n",
    "\n",
    "update_time=0\n",
    "\n",
    "for i in range(trying_times):\n",
    "        \n",
    "    price_by_k_and_b=[price(r,current_k,current_b) for r in X_rm]\n",
    "    \n",
    "    current_loss=loss(y,price_by_k_and_b)\n",
    "    \n",
    "    \n",
    "    if current_loss < min_loss:  # performance became better\n",
    "        min_loss=current_loss\n",
    "        best_k,best_b=current_k,current_b\n",
    "        \n",
    "        \n",
    "        update_time+=1\n",
    "        \n",
    "        \n",
    "        if update_time%10==0:\n",
    "            print('When time is: {},get best_k: {} best_b:{},and the loss is: {}'.format(i,best_k,best_b,min_loss))\n",
    "    \n",
    "    k_gradient=partial_k(X_rm,y,price_by_k_and_b)\n",
    "    \n",
    "    b_gradient=partial_b(X_rm,y,price_by_k_and_b)\n",
    "    \n",
    "    current_k=current_k+(-1*k_gradient)*learning_rate\n",
    "    current_b=current_b+(-1*b_gradient)*learning_rate"
   ]
  },
  {
   "cell_type": "code",
   "execution_count": null,
   "metadata": {
    "collapsed": true
   },
   "outputs": [],
   "source": []
  }
 ],
 "metadata": {
  "kernelspec": {
   "display_name": "Python [conda env:Anaconda3]",
   "language": "python",
   "name": "conda-env-Anaconda3-py"
  },
  "language_info": {
   "codemirror_mode": {
    "name": "ipython",
    "version": 3
   },
   "file_extension": ".py",
   "mimetype": "text/x-python",
   "name": "python",
   "nbconvert_exporter": "python",
   "pygments_lexer": "ipython3",
   "version": "3.5.2"
  }
 },
 "nbformat": 4,
 "nbformat_minor": 1
}
